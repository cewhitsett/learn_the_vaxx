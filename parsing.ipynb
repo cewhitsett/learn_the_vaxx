{
 "cells": [
  {
   "cell_type": "code",
   "execution_count": 34,
   "metadata": {},
   "outputs": [],
   "source": [
    "import pandas as pd\n",
    "import math"
   ]
  },
  {
   "cell_type": "code",
   "execution_count": 35,
   "metadata": {},
   "outputs": [],
   "source": [
    "responses = pd.read_csv(\"extras/responses.csv\")\n",
    "reactions = pd.read_csv(\"extras/reactions.csv\")"
   ]
  },
  {
   "cell_type": "code",
   "execution_count": 36,
   "metadata": {},
   "outputs": [
    {
     "data": {
      "text/html": [
       "<div>\n",
       "<style scoped>\n",
       "    .dataframe tbody tr th:only-of-type {\n",
       "        vertical-align: middle;\n",
       "    }\n",
       "\n",
       "    .dataframe tbody tr th {\n",
       "        vertical-align: top;\n",
       "    }\n",
       "\n",
       "    .dataframe thead th {\n",
       "        text-align: right;\n",
       "    }\n",
       "</style>\n",
       "<table border=\"1\" class=\"dataframe\">\n",
       "  <thead>\n",
       "    <tr style=\"text-align: right;\">\n",
       "      <th></th>\n",
       "      <th>id</th>\n",
       "      <th>title</th>\n",
       "      <th>explanation</th>\n",
       "      <th>image</th>\n",
       "      <th>links</th>\n",
       "      <th>reactions</th>\n",
       "    </tr>\n",
       "  </thead>\n",
       "  <tbody>\n",
       "    <tr>\n",
       "      <td>0</td>\n",
       "      <td>0</td>\n",
       "      <td>Learn the Vaxx</td>\n",
       "      <td>Inform yourself. Protect others. Beat the viru...</td>\n",
       "      <td>NaN</td>\n",
       "      <td>NaN</td>\n",
       "      <td>0,1,2,3,4,5,6,7,8,9</td>\n",
       "    </tr>\n",
       "    <tr>\n",
       "      <td>1</td>\n",
       "      <td>1</td>\n",
       "      <td>The vaccine was developed so quickly...no way ...</td>\n",
       "      <td>Considering that vaccines usually take 10-15 y...</td>\n",
       "      <td>NaN</td>\n",
       "      <td>https://www.cdc.gov/coronavirus/2019-ncov/vacc...</td>\n",
       "      <td>0,1</td>\n",
       "    </tr>\n",
       "    <tr>\n",
       "      <td>2</td>\n",
       "      <td>2</td>\n",
       "      <td>The vaccine has adverse side effects, doesn’t it?</td>\n",
       "      <td>True! There definitely has been some observabl...</td>\n",
       "      <td>https://www.cdc.gov/coronavirus/2019-ncov/vacc...</td>\n",
       "      <td>NaN</td>\n",
       "      <td>3,0</td>\n",
       "    </tr>\n",
       "    <tr>\n",
       "      <td>3</td>\n",
       "      <td>3</td>\n",
       "      <td>Don’t vaccines inject you with the virus in or...</td>\n",
       "      <td>There are different kinds of vaccines. The kin...</td>\n",
       "      <td>NaN</td>\n",
       "      <td>NaN</td>\n",
       "      <td>5,6</td>\n",
       "    </tr>\n",
       "    <tr>\n",
       "      <td>4</td>\n",
       "      <td>4</td>\n",
       "      <td>It’s doubtful that the COVID vaccine will work...</td>\n",
       "      <td>We get this concern because the vaccine was de...</td>\n",
       "      <td>NaN</td>\n",
       "      <td>NaN</td>\n",
       "      <td>4,7</td>\n",
       "    </tr>\n",
       "  </tbody>\n",
       "</table>\n",
       "</div>"
      ],
      "text/plain": [
       "   id                                              title  \\\n",
       "0   0                                     Learn the Vaxx   \n",
       "1   1  The vaccine was developed so quickly...no way ...   \n",
       "2   2  The vaccine has adverse side effects, doesn’t it?   \n",
       "3   3  Don’t vaccines inject you with the virus in or...   \n",
       "4   4  It’s doubtful that the COVID vaccine will work...   \n",
       "\n",
       "                                         explanation  \\\n",
       "0  Inform yourself. Protect others. Beat the viru...   \n",
       "1  Considering that vaccines usually take 10-15 y...   \n",
       "2  True! There definitely has been some observabl...   \n",
       "3  There are different kinds of vaccines. The kin...   \n",
       "4  We get this concern because the vaccine was de...   \n",
       "\n",
       "                                               image  \\\n",
       "0                                                NaN   \n",
       "1                                                NaN   \n",
       "2  https://www.cdc.gov/coronavirus/2019-ncov/vacc...   \n",
       "3                                                NaN   \n",
       "4                                                NaN   \n",
       "\n",
       "                                               links            reactions  \n",
       "0                                                NaN  0,1,2,3,4,5,6,7,8,9  \n",
       "1  https://www.cdc.gov/coronavirus/2019-ncov/vacc...                  0,1  \n",
       "2                                                NaN                  3,0  \n",
       "3                                                NaN                  5,6  \n",
       "4                                                NaN                  4,7  "
      ]
     },
     "execution_count": 36,
     "metadata": {},
     "output_type": "execute_result"
    }
   ],
   "source": [
    "responses.head()"
   ]
  },
  {
   "cell_type": "code",
   "execution_count": 37,
   "metadata": {},
   "outputs": [
    {
     "data": {
      "text/html": [
       "<div>\n",
       "<style scoped>\n",
       "    .dataframe tbody tr th:only-of-type {\n",
       "        vertical-align: middle;\n",
       "    }\n",
       "\n",
       "    .dataframe tbody tr th {\n",
       "        vertical-align: top;\n",
       "    }\n",
       "\n",
       "    .dataframe thead th {\n",
       "        text-align: right;\n",
       "    }\n",
       "</style>\n",
       "<table border=\"1\" class=\"dataframe\">\n",
       "  <thead>\n",
       "    <tr style=\"text-align: right;\">\n",
       "      <th></th>\n",
       "      <th>id</th>\n",
       "      <th>response</th>\n",
       "      <th>next</th>\n",
       "    </tr>\n",
       "  </thead>\n",
       "  <tbody>\n",
       "    <tr>\n",
       "      <td>0</td>\n",
       "      <td>0</td>\n",
       "      <td>Hmm, I get it’s effective, but how do I know i...</td>\n",
       "      <td>1</td>\n",
       "    </tr>\n",
       "    <tr>\n",
       "      <td>1</td>\n",
       "      <td>1</td>\n",
       "      <td>Actually, I don’t get why I should be concerne...</td>\n",
       "      <td>4</td>\n",
       "    </tr>\n",
       "    <tr>\n",
       "      <td>2</td>\n",
       "      <td>2</td>\n",
       "      <td>How am I sure that the vaccine won’t give me C...</td>\n",
       "      <td>3</td>\n",
       "    </tr>\n",
       "    <tr>\n",
       "      <td>3</td>\n",
       "      <td>3</td>\n",
       "      <td>Ok, so it doesn’t seem harmful! I wanna learn ...</td>\n",
       "      <td>0</td>\n",
       "    </tr>\n",
       "    <tr>\n",
       "      <td>4</td>\n",
       "      <td>4</td>\n",
       "      <td>So, the vaccine works well...how was that poss...</td>\n",
       "      <td>1</td>\n",
       "    </tr>\n",
       "  </tbody>\n",
       "</table>\n",
       "</div>"
      ],
      "text/plain": [
       "   id                                           response  next\n",
       "0   0  Hmm, I get it’s effective, but how do I know i...     1\n",
       "1   1  Actually, I don’t get why I should be concerne...     4\n",
       "2   2  How am I sure that the vaccine won’t give me C...     3\n",
       "3   3  Ok, so it doesn’t seem harmful! I wanna learn ...     0\n",
       "4   4  So, the vaccine works well...how was that poss...     1"
      ]
     },
     "execution_count": 37,
     "metadata": {},
     "output_type": "execute_result"
    }
   ],
   "source": [
    "reactions.head()"
   ]
  },
  {
   "cell_type": "code",
   "execution_count": 38,
   "metadata": {},
   "outputs": [],
   "source": [
    "data_dict = {}\n",
    "for index, row in responses.iterrows():\n",
    "    data_dict[row['id']] = {\n",
    "        \"title\": row[\"title\"],\n",
    "        \"text\": row[\"explanation\"],\n",
    "        \"choices\": [int(x.strip()) for x in row[\"reactions\"].split(\",\")]\n",
    "    }\n",
    "    if type(row[\"links\"]) == str:#not math.isnan(row[\"links\"]):\n",
    "        split = row[\"links\"].split(\",\")\n",
    "        new = []\n",
    "        for i in range(0,len(split),2):\n",
    "            new.append({\n",
    "                \"url\": split[i],\n",
    "                \"text\": split[i+1]\n",
    "            })\n",
    "        data_dict[row['id']][\"links\"] = {\n",
    "            \"url\": split[0],\n",
    "            \"desc\": split[1]\n",
    "        }\n",
    "    if type(row[\"image\"]) == str:\n",
    "        split = row[\"image\"].split(\",\")\n",
    "        data_dict[row['id']][\"pic\"] = {\n",
    "            \"url\": split[0],\n",
    "            \"desc\": split[1]\n",
    "        }"
   ]
  },
  {
   "cell_type": "code",
   "execution_count": 39,
   "metadata": {},
   "outputs": [
    {
     "data": {
      "text/plain": [
       "{0: {'title': 'Learn the Vaxx',\n",
       "  'text': 'Inform yourself. Protect others. Beat the virus.\\nFor Black people by 4 Black people*.',\n",
       "  'choices': [0, 1, 2, 3, 4, 5, 6, 7, 8, 9]},\n",
       " 1: {'title': 'The vaccine was developed so quickly...no way it’s legit.',\n",
       "  'text': 'Considering that vaccines usually take 10-15 years to develop and these vaccines only took a couple of months, we get that! But, here’s the facts: No steps were skipped in the development process of the vaccine because scientists were able to leverage pre-existing technology. And in fact, the Moderna vaccine has been proven 94% effective and the Pfizer vaccines 95% effective [1, 2].',\n",
       "  'choices': [0, 1],\n",
       "  'links': {'url': 'https://www.cdc.gov/coronavirus/2019-ncov/vaccines/different-vaccines/Moderna.html',\n",
       "   'desc': 'More about Moderna'}},\n",
       " 2: {'title': 'The vaccine has adverse side effects, doesn’t it?',\n",
       "  'text': 'True! There definitely has been some observable side effects. But, it’s normal to have side effects from a vaccine. You likely experienced pain after receiving your required school immunizations. You may have even felt tired or feverish. The COVID vaccine has similar side effects, but like other vaccines, they don’t last long.',\n",
       "  'choices': [3, 0],\n",
       "  'pic': {'url': 'https://www.cdc.gov/coronavirus/2019-ncov/vaccines/expect/after.html',\n",
       "   'desc': 'What To Expect'}},\n",
       " 3: {'title': 'Don’t vaccines inject you with the virus in order to trigger your immune system?',\n",
       "  'text': 'There are different kinds of vaccines. The kind you’re thinking of is called a live attenuated vaccine. These vaccines inject a weaker, asymptomatic form of the virus into your body, but won’t make you sick.\\n***WHICH VACCINE IS MRNA.***However the COVID vaccine is an mRNA vaccine, a new kind of vaccine that has been in development for many years. The mRNA vaccine does not introduce the virus into your body. It instead gives your cells instructions to make a “spike protein” like the one found in the virus. Your body will recognize these spike proteins as foreign and create an immune response to get rid of them, so if it recognizes any new spike proteins being introduced to your body--the coronavirus--it will protect you against having a serious reaction! \\nAnd if you’re worried about the vaccine altering your DNA, don’t! It does not go to the nucleus of your cells so it doesn’t affect your DNA at all. The mRNA is destroyed after it does its job.',\n",
       "  'choices': [5, 6]},\n",
       " 4: {'title': 'It’s doubtful that the COVID vaccine will work well',\n",
       "  'text': 'We get this concern because the vaccine was developed only a couple of months and both the Pfizer and Moderna vaccines hover ~95% effective! But take a look at this number in comparison to some other familiar vaccines:Moderna - 94% effective [1], Pfizer - 95% effective [2], DTAP (Pertussis/Whooping Cough) - 80-90% effective [3], Variella (chickenpox) - 82% effective [4], MCV4, MPSV4 and MenB (Meningococcal disease) - 85-90% [5]. Plus, the vaccine will be most effective if people get it!',\n",
       "  'choices': [4, 7]},\n",
       " 5: {'title': 'I’m young and/or healthy so I don’t need to get vaccinated',\n",
       "  'text': 'That’s great that you feel healthy! But don’t take your health for granted. Plenty of young and otherwise healthy people have had bad side effects from COVID (Re: Long Covid). And just by being Black you are 1.1x as likely to catch coronavirus than white people. Around 155 out of 100,000 Black Americans have died from COVID-19 complications as of 2/2/21.\\nMany Black Americans suffer from conditions that predispose them to having severe effects from COVID, such as (list conditions). If you or the people around you have any of these, you should get the vaccine for protection.\\nIf you’re not concerned for your own safety, think about the safety of the people around you: parents, siblings, grandparents, uncles, aunts, cousins, friends, neighbors, etc.\\nYou may be healthy and not have bad symptoms if you catch COVID, but others may not be so lucky. By getting the vaccine you can do your part to protect others in your community.',\n",
       "  'choices': [8, 9]}}"
      ]
     },
     "execution_count": 39,
     "metadata": {},
     "output_type": "execute_result"
    }
   ],
   "source": [
    "data_dict"
   ]
  },
  {
   "cell_type": "code",
   "execution_count": 40,
   "metadata": {},
   "outputs": [],
   "source": [
    "data_dict = {}\n",
    "for index, row in reactions.iterrows():\n",
    "    data_dict[row['id']] = {\n",
    "        \"next\": row[\"next\"],\n",
    "        \"text\": row[\"response\"],\n",
    "    }"
   ]
  },
  {
   "cell_type": "code",
   "execution_count": 41,
   "metadata": {},
   "outputs": [
    {
     "data": {
      "text/plain": [
       "{0: {'next': 1,\n",
       "  'text': 'Hmm, I get it’s effective, but how do I know if it’s harmful?'},\n",
       " 1: {'next': 4,\n",
       "  'text': 'Actually, I don’t get why I should be concerned about contracting COVID.'},\n",
       " 2: {'next': 3, 'text': 'How am I sure that the vaccine won’t give me COVID?'},\n",
       " 3: {'next': 0,\n",
       "  'text': 'Ok, so it doesn’t seem harmful! I wanna learn more about some of my other concerns.'},\n",
       " 4: {'next': 1,\n",
       "  'text': 'So, the vaccine works well...how was that possible if it was developed so fast?'},\n",
       " 5: {'next': -1, 'text': 'I’m not convinced. Let me see more facts.'},\n",
       " 6: {'next': 0,\n",
       "  'text': 'That sounds legit! I wanna learn more about some of my other concerns.'},\n",
       " 7: {'next': 0,\n",
       "  'text': 'I guess it does the job! I wanna learn more about some of my other concerns.'},\n",
       " 8: {'next': -1, 'text': 'Why should I actually be concerned?'},\n",
       " 9: {'next': 0,\n",
       "  'text': 'Yikes, I get it. I wanna learn more about some of my other concerns.'}}"
      ]
     },
     "execution_count": 41,
     "metadata": {},
     "output_type": "execute_result"
    }
   ],
   "source": [
    "data_dict"
   ]
  },
  {
   "cell_type": "code",
   "execution_count": null,
   "metadata": {},
   "outputs": [],
   "source": []
  }
 ],
 "metadata": {
  "kernelspec": {
   "display_name": "Python 3",
   "language": "python",
   "name": "python3"
  },
  "language_info": {
   "codemirror_mode": {
    "name": "ipython",
    "version": 3
   },
   "file_extension": ".py",
   "mimetype": "text/x-python",
   "name": "python",
   "nbconvert_exporter": "python",
   "pygments_lexer": "ipython3",
   "version": "3.7.4"
  }
 },
 "nbformat": 4,
 "nbformat_minor": 2
}
